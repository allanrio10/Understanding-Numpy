{
 "cells": [
  {
   "cell_type": "markdown",
   "id": "06861791-ed2d-436e-9feb-606cf659eaaf",
   "metadata": {},
   "source": [
    "## Numpy: Matrices, Shapes, and Dimensions"
   ]
  },
  {
   "cell_type": "code",
   "execution_count": 2,
   "id": "373238f5-808e-4a8a-9165-7b2d149d3939",
   "metadata": {},
   "outputs": [],
   "source": [
    "#import numpy\n",
    "import numpy as np"
   ]
  },
  {
   "cell_type": "markdown",
   "id": "08c1c53a-834e-400a-8c90-004a3a60e778",
   "metadata": {},
   "source": [
    "### Data structures"
   ]
  },
  {
   "cell_type": "code",
   "execution_count": 5,
   "id": "63f05181-4220-43f8-a355-237b7419863d",
   "metadata": {},
   "outputs": [
    {
     "data": {
      "text/plain": [
       "array([[ 1,  7,  8,  9],\n",
       "       [ 4,  6, 78,  2],\n",
       "       [ 1,  4,  2, 34]])"
      ]
     },
     "execution_count": 5,
     "metadata": {},
     "output_type": "execute_result"
    }
   ],
   "source": [
    "#Create a matrix ofa any numbers of your choice\n",
    "\n",
    "matrix = np.array([[1,7,8,9],[4,6,78,2],[1,4,2,34]])\n",
    "matrix"
   ]
  },
  {
   "cell_type": "code",
   "execution_count": 11,
   "id": "a0b13df2-2fba-4fa9-a68e-a8889cfdb774",
   "metadata": {},
   "outputs": [
    {
     "name": "stdout",
     "output_type": "stream",
     "text": [
      "Dimension: 2 \n",
      " Type: int32 \n",
      " Size: 12 \n",
      " Shape: (3, 4)\n"
     ]
    }
   ],
   "source": [
    "#Check dimension, size, type, and shape of the matrix\n",
    "print(\"Dimension:\", matrix.ndim, \"\\n\", \"Type:\", matrix.dtype, \"\\n\",\"Size:\", matrix.size,\"\\n\",\"Shape:\", matrix.shape)"
   ]
  },
  {
   "cell_type": "markdown",
   "id": "ad63f371-ad04-4349-b43e-5c2999a26d9c",
   "metadata": {},
   "source": [
    "### Slicing and Indexing \n",
    "\n",
    "Rows: `matrix[n:m]`, this gives the range of elements in the nth row and the (m-1)th row   \n",
    "Columns: `matrix[a:b]`, this gives the range of elements in the ath columnn and the (b-1)th column   \n",
    "Single row and column: `matrix[n][b]`  nth row and bth column   \n",
    "Rows and columns : `matrix[m:n,a:b]`"
   ]
  },
  {
   "cell_type": "code",
   "execution_count": null,
   "id": "cc33030f-72da-436b-9651-04d19396b1dd",
   "metadata": {},
   "outputs": [],
   "source": [
    "# display first row"
   ]
  },
  {
   "cell_type": "code",
   "execution_count": 17,
   "id": "b455ca9c-670e-441b-9a8b-f66b457086e3",
   "metadata": {},
   "outputs": [
    {
     "data": {
      "text/plain": [
       "array([1, 7, 8, 9])"
      ]
     },
     "execution_count": 17,
     "metadata": {},
     "output_type": "execute_result"
    }
   ],
   "source": [
    "matrix[0]"
   ]
  },
  {
   "cell_type": "code",
   "execution_count": 18,
   "id": "727ebbcb-7554-4239-a2a9-3bd160fd4867",
   "metadata": {},
   "outputs": [
    {
     "data": {
      "text/plain": [
       "array([[ 1,  7,  8,  9],\n",
       "       [ 4,  6, 78,  2],\n",
       "       [ 1,  4,  2, 34]])"
      ]
     },
     "execution_count": 18,
     "metadata": {},
     "output_type": "execute_result"
    }
   ],
   "source": [
    "#display all rows\n",
    "matrix[:]"
   ]
  },
  {
   "cell_type": "code",
   "execution_count": 20,
   "id": "95236702-df7c-4309-b64e-19beb392eec3",
   "metadata": {},
   "outputs": [
    {
     "data": {
      "text/plain": [
       "array([ 4,  6, 78,  2])"
      ]
     },
     "execution_count": 20,
     "metadata": {},
     "output_type": "execute_result"
    }
   ],
   "source": [
    "#display second row\n",
    "matrix[1]"
   ]
  },
  {
   "cell_type": "code",
   "execution_count": 35,
   "id": "92292e29-4342-4534-836c-d1c7933b2727",
   "metadata": {},
   "outputs": [
    {
     "name": "stdout",
     "output_type": "stream",
     "text": [
      "First two rows: [[ 1  7  8  9]\n",
      " [ 4  6 78  2]]\n",
      "third and fourth row: [[ 4  6 78  2]\n",
      " [ 1  4  2 34]]\n"
     ]
    }
   ],
   "source": [
    "#display first two rows, and second and third row\n",
    "print(\"First two rows:\", matrix[0:2])\n",
    "print(\"third and fourth row:\", matrix[1:])"
   ]
  },
  {
   "cell_type": "code",
   "execution_count": 46,
   "id": "7dd34f64-d77d-4496-b268-99ffcb5442e5",
   "metadata": {},
   "outputs": [
    {
     "name": "stdout",
     "output_type": "stream",
     "text": [
      "First row-second column 7\n",
      "Element, Third row-Fourth column 34\n"
     ]
    }
   ],
   "source": [
    "#display element in first row second column\n",
    "print(\"First row-second column\", matrix[0][1])\n",
    "\n",
    "#display element in third row, fourth column\n",
    "print(\"Element, Third row-Fourth column\", matrix [2][3])"
   ]
  },
  {
   "cell_type": "code",
   "execution_count": 43,
   "id": "72b6049b-1f68-4e10-ad71-b2d5660910e7",
   "metadata": {},
   "outputs": [
    {
     "name": "stdout",
     "output_type": "stream",
     "text": [
      "Elements in first column [[1]\n",
      " [4]\n",
      " [1]]\n",
      "Elements in third column [[ 9]\n",
      " [ 2]\n",
      " [34]]\n"
     ]
    }
   ],
   "source": [
    "#display elements in first colummn, and third column\n",
    "print(\"Elements in first column\", matrix[:, 0:1])\n",
    "print(\"Elements in third column\", matrix[:, 3:4])"
   ]
  },
  {
   "cell_type": "code",
   "execution_count": 45,
   "id": "3dfa8fb2-b51f-4c3b-967f-5b9f33ce1eee",
   "metadata": {},
   "outputs": [
    {
     "data": {
      "text/plain": [
       "array([[1, 7],\n",
       "       [4, 6]])"
      ]
     },
     "execution_count": 45,
     "metadata": {},
     "output_type": "execute_result"
    }
   ],
   "source": [
    "#display elements in the first two rows , first two columns\n",
    "matrix[:2,:2]"
   ]
  },
  {
   "cell_type": "code",
   "execution_count": null,
   "id": "ac17d4b6-54f8-46fa-bfe5-d6f79e5557b7",
   "metadata": {},
   "outputs": [],
   "source": []
  },
  {
   "cell_type": "code",
   "execution_count": null,
   "id": "8cd2a720-10c3-42cb-8362-3da4cc433d5b",
   "metadata": {},
   "outputs": [],
   "source": []
  }
 ],
 "metadata": {
  "kernelspec": {
   "display_name": "Python 3 (ipykernel)",
   "language": "python",
   "name": "python3"
  },
  "language_info": {
   "codemirror_mode": {
    "name": "ipython",
    "version": 3
   },
   "file_extension": ".py",
   "mimetype": "text/x-python",
   "name": "python",
   "nbconvert_exporter": "python",
   "pygments_lexer": "ipython3",
   "version": "3.8.5"
  }
 },
 "nbformat": 4,
 "nbformat_minor": 5
}
