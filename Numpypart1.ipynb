{
 "cells": [
  {
   "cell_type": "markdown",
   "id": "19d1c2cb-b487-4bab-8003-88c4e54910de",
   "metadata": {},
   "source": [
    "####  Understanding Numpy    \n",
    "- A library for mathematical computations\n",
    "- Never used in isolation,  but is mostly used together with pandas, statsmodel, and other visualization libraries like matplotlib   \n",
    "- Significant for operating mathematics on lists(called arrays in Numpy)\n",
    "- It also saves on space making computations fast and effecient compared to when using standard python\n",
    "\n",
    "  ###### Significant in:    \n",
    "  a. Efficient numeric computation with C primitives            \n",
    "  b. Efficient collections with vectorized operations    \n",
    "  c. An integrated and natural Linear Algebra API    \n",
    "  d. A C API for connecting NumPy with libraries written in C, C++, or FORTRAN.    \n"
   ]
  },
  {
   "cell_type": "markdown",
   "id": "13318b53-862b-4c9a-b696-cd82bf93610e",
   "metadata": {},
   "source": [
    "#### Practising Numpy  "
   ]
  },
  {
   "cell_type": "code",
   "execution_count": 26,
   "id": "817d52dd-a12d-4649-9423-e7f32af42f94",
   "metadata": {},
   "outputs": [],
   "source": [
    "import numpy as np\n",
    "import matplotlib.pyplot as plt"
   ]
  },
  {
   "cell_type": "markdown",
   "id": "11443256-d61f-4611-86f0-ff6af5a2c528",
   "metadata": {},
   "source": [
    "### Generating an Array   \n",
    "An array refers to a list in numpy   \n",
    "An array is made using np.array() for specific numbers    \n",
    "An array can also be made using np.arange() for a given range of numbers    \n",
    "np.random is a submodule of NumPy that provides functions for generating random numbers for different probability distribution namely:  \n",
    ">a. uniform   \n",
    " b. normal   \n",
    " c. binomial"
   ]
  },
  {
   "cell_type": "code",
   "execution_count": 25,
   "id": "a14e0c2b-2250-4c3d-a26c-9a5eadc9be82",
   "metadata": {},
   "outputs": [
    {
     "name": "stdout",
     "output_type": "stream",
     "text": [
      "a: [ 1  3  4 58 94] \n",
      " b: [0 1 2 3 4 5] \n",
      " c: [[0.61505814 0.16290652 0.85368552 0.0257049  0.07214341 0.50754823\n",
      "  0.94965498 0.2566482  0.0152932  0.38367669]] \n",
      " d: [[0.7912527  0.82882112 0.07884096]\n",
      " [0.60121491 0.60657969 0.22437696]\n",
      " [0.17915063 0.92477653 0.77174724]\n",
      " [0.62208951 0.31391432 0.38061206]] \n",
      " e: 6\n"
     ]
    }
   ],
   "source": [
    "#generate a list with numbers \n",
    "a = np.array([1,3,4,58,94])\n",
    "\n",
    "#generate an array with range 0 to5 \n",
    "b = np.arange(6)\n",
    "\n",
    "#generate random numbers range 10\n",
    "#uniform distribution\n",
    "c = np.random.rand(1,10)\n",
    "\n",
    "#normal(mean, variance)\n",
    "d= np.random.rand(4,3)\n",
    "\n",
    "#binomal distribution (low, high)\n",
    "e =np.random.randint(2,7)\n",
    "print(\"a:\",a,\"\\n\", \"b:\", b,\"\\n\",\"c:\",c,\"\\n\",\"d:\", d,\"\\n\",\"e:\",e)"
   ]
  },
  {
   "cell_type": "markdown",
   "id": "0615ccc0-e28c-49fa-a220-dc3e2c6a1481",
   "metadata": {},
   "source": [
    "### Slicing: Indexing in Numpy   \n",
    "Indices refers to positioning of elements in an array   \n",
    "Indices start with zero  \n",
    "Slicing works in arrays in the same way as in lists   "
   ]
  },
  {
   "cell_type": "code",
   "execution_count": 44,
   "id": "4efbab5d-27b7-404e-af42-67e34353bf30",
   "metadata": {},
   "outputs": [
    {
     "data": {
      "text/plain": [
       "(1, 94, 94)"
      ]
     },
     "execution_count": 44,
     "metadata": {},
     "output_type": "execute_result"
    }
   ],
   "source": [
    "#hands on using array created in variable a\n",
    "#first, third, and last element in array a\n",
    "a[0], a[4],a[-1]"
   ]
  },
  {
   "cell_type": "code",
   "execution_count": 45,
   "id": "616fea18-70c3-4447-b6f6-01657c83d338",
   "metadata": {},
   "outputs": [
    {
     "data": {
      "text/plain": [
       "array([58, 94])"
      ]
     },
     "execution_count": 45,
     "metadata": {},
     "output_type": "execute_result"
    }
   ],
   "source": [
    "##indexing a range (slicing)\n",
    "#elements in range 2 to 4 in array a\n",
    "a[3:5]"
   ]
  },
  {
   "cell_type": "code",
   "execution_count": 47,
   "id": "bf86b0e7-e864-41ab-ab16-ae93255ff72b",
   "metadata": {},
   "outputs": [
    {
     "data": {
      "text/plain": [
       "array([ 1,  3,  4, 58, 94])"
      ]
     },
     "execution_count": 47,
     "metadata": {},
     "output_type": "execute_result"
    }
   ],
   "source": [
    "# all elements in the entire row of the array\n",
    "a[:]"
   ]
  },
  {
   "cell_type": "markdown",
   "id": "8a24ce1b-a88a-435c-b4da-0e6682f28247",
   "metadata": {},
   "source": [
    "### Understanding Data structures in Numpy Array    \n",
    "a. Data type: dtype    \n",
    "d. Dimensionality: ndim          \n",
    "c. data size: size   \n",
    "d. Shape of data: .shape   "
   ]
  },
  {
   "cell_type": "code",
   "execution_count": 53,
   "id": "c99dc45e-177f-4f10-b639-09f6bbad49d0",
   "metadata": {},
   "outputs": [
    {
     "name": "stdout",
     "output_type": "stream",
     "text": [
      "Shape of b (6,) \n",
      " Dimensions of b: 1 \n",
      " Size of array b: 6 \n",
      " Data type of array b: int32\n"
     ]
    }
   ],
   "source": [
    "#using array b as an example\n",
    "print(\"Shape of b\", b.shape,\"\\n\",\"Dimensions of b:\", b.ndim,\"\\n\", \"Size of array b:\", b.size, \"\\n\",\"Data type of array b:\", b.dtype)\n"
   ]
  },
  {
   "cell_type": "code",
   "execution_count": 67,
   "id": "38f52f4a-f9c0-4f99-977e-1848c6a1b74e",
   "metadata": {},
   "outputs": [
    {
     "data": {
      "text/plain": [
       "(array([0, 1, 2, 3, 4, 5], dtype=int64),\n",
       " '\\n',\n",
       " array([0., 1., 2., 3., 4., 5., 6.]))"
      ]
     },
     "execution_count": 67,
     "metadata": {},
     "output_type": "execute_result"
    }
   ],
   "source": [
    "#create arrays with desired shape and datatype\n",
    "#Array f with datatype integer64\n",
    "f =np.arange(6,dtype=np.int64)\n",
    "\n",
    "#array g with float\n",
    "g = np.arange(7, dtype = float)\n",
    "f,\"\\n\", g"
   ]
  },
  {
   "cell_type": "code",
   "execution_count": 75,
   "id": "6d1a2e9d-ecf5-4f30-b40f-e75a4aec69cf",
   "metadata": {},
   "outputs": [
    {
     "data": {
      "text/plain": [
       "(array([0, 0, 0, 0]), 'size:', 4)"
      ]
     },
     "execution_count": 75,
     "metadata": {},
     "output_type": "execute_result"
    }
   ],
   "source": [
    "#Create a numpy array of size 4, filled with zeros\n",
    "array = np.array([0]*4)\n",
    "array, \"size:\", array.size"
   ]
  },
  {
   "cell_type": "code",
   "execution_count": 77,
   "id": "fe1ba055-64d8-4f0a-bec9-62fa75c02bf8",
   "metadata": {},
   "outputs": [
    {
     "data": {
      "text/plain": [
       "array([ 5,  6,  7,  8,  9, 10, 11, 12, 13, 14, 15, 16, 17, 18, 19, 20, 21,\n",
       "       22, 23, 24, 25, 26, 27, 28, 29, 30])"
      ]
     },
     "execution_count": 77,
     "metadata": {},
     "output_type": "execute_result"
    }
   ],
   "source": [
    "#Create a numpy array with values ranging from 5 to 30\n",
    "array = np.arange(5,31)\n",
    "array"
   ]
  },
  {
   "cell_type": "code",
   "execution_count": 82,
   "id": "2cf149e0-6cb9-4b74-8bf1-d897de944c10",
   "metadata": {},
   "outputs": [
    {
     "data": {
      "text/plain": [
       "array([[1, 1, 1],\n",
       "       [1, 1, 1],\n",
       "       [1, 1, 1]])"
      ]
     },
     "execution_count": 82,
     "metadata": {},
     "output_type": "execute_result"
    }
   ],
   "source": [
    "#Create a numpy matrix of 3*3 integers, filled with ones.\n",
    "matrix_3by3 = np.ones([3,3], dtype = np.int32)\n",
    "matrix_3by3"
   ]
  },
  {
   "cell_type": "code",
   "execution_count": null,
   "id": "ab0e286e-a87d-4164-89f1-a652160ed0cf",
   "metadata": {},
   "outputs": [],
   "source": []
  }
 ],
 "metadata": {
  "kernelspec": {
   "display_name": "Python 3 (ipykernel)",
   "language": "python",
   "name": "python3"
  },
  "language_info": {
   "codemirror_mode": {
    "name": "ipython",
    "version": 3
   },
   "file_extension": ".py",
   "mimetype": "text/x-python",
   "name": "python",
   "nbconvert_exporter": "python",
   "pygments_lexer": "ipython3",
   "version": "3.11.4"
  }
 },
 "nbformat": 4,
 "nbformat_minor": 5
}
