{
 "cells": [
  {
   "cell_type": "markdown",
   "id": "1b19677b-8e18-40ef-a63e-a45c81aac5ca",
   "metadata": {},
   "source": [
    "# Numpy Measures of Central tendency and Dispersion"
   ]
  },
  {
   "cell_type": "markdown",
   "id": "5641b936-30a8-4a99-ae44-36227f749544",
   "metadata": {},
   "source": [
    "The main stastical operations used in numpy arrays include:    \n",
    "a. mean  \n",
    "b. standard deviation  \n",
    "c. variance    \n",
    "d. sum   \n",
    "The functions of stastical summaries can be used to manipulate stastical operations in arrays and matrices "
   ]
  },
  {
   "cell_type": "code",
   "execution_count": 3,
   "id": "f2ba6e83-13e8-46f8-88a3-4a563253e607",
   "metadata": {},
   "outputs": [],
   "source": [
    "#import numpy\n",
    "import numpy as np"
   ]
  },
  {
   "cell_type": "markdown",
   "id": "1bb0a58c-7569-4d39-bc55-0b31ebcde07b",
   "metadata": {},
   "source": [
    "## Example"
   ]
  },
  {
   "cell_type": "code",
   "execution_count": 6,
   "id": "81c9afaf-7515-41b5-a098-5fe3749ec041",
   "metadata": {},
   "outputs": [
    {
     "data": {
      "text/plain": [
       "array([[ 5,  9,  6,  1, 24],\n",
       "       [ 7,  2,  3,  9, 76],\n",
       "       [ 2,  5,  6,  9,  1],\n",
       "       [ 5,  8,  1,  4,  5]])"
      ]
     },
     "execution_count": 6,
     "metadata": {},
     "output_type": "execute_result"
    }
   ],
   "source": [
    "#create matrix of your choice\n",
    "matrix = np.array([[5,9,6,1,24],[7,2,3,9,76],[2,5,6,9,1],[5,8,1,4,5]])\n",
    "matrix"
   ]
  },
  {
   "cell_type": "code",
   "execution_count": 11,
   "id": "6374db9d-5d0a-4089-adb3-b9e0b7b1546b",
   "metadata": {},
   "outputs": [
    {
     "name": "stdout",
     "output_type": "stream",
     "text": [
      "Sum of matrix: 188\n",
      "Mean of matrix: 9.4\n",
      "Standard deviation of matrix: 16.044936896105263\n",
      "Variance of matrix 257.43999999999994\n"
     ]
    }
   ],
   "source": [
    "#find the sum,mean, variance, and standard deviation of all elements in the matrix\n",
    "print (\"Sum of matrix:\", matrix.sum())\n",
    "print(\"Mean of matrix:\", matrix.mean())\n",
    "print(\"Standard deviation of matrix:\", matrix.std())\n",
    "print(\"Variance of matrix\",matrix.var())"
   ]
  },
  {
   "cell_type": "markdown",
   "id": "d93a3b44-570b-44b0-aedf-b7b7836fc321",
   "metadata": {},
   "source": [
    "### Summary Statistics, Indexing, and Slicing"
   ]
  },
  {
   "cell_type": "code",
   "execution_count": 14,
   "id": "9b5b5fdd-f7f5-46db-bbf6-c1240adb0dd6",
   "metadata": {},
   "outputs": [
    {
     "data": {
      "text/plain": [
       "45"
      ]
     },
     "execution_count": 14,
     "metadata": {},
     "output_type": "execute_result"
    }
   ],
   "source": [
    "#sum of first row\n",
    "matrix[0].sum()"
   ]
  },
  {
   "cell_type": "code",
   "execution_count": 15,
   "id": "4dc3d413-5492-48ba-85e2-41f898ddd6da",
   "metadata": {},
   "outputs": [
    {
     "data": {
      "text/plain": [
       "142"
      ]
     },
     "execution_count": 15,
     "metadata": {},
     "output_type": "execute_result"
    }
   ],
   "source": [
    "#Sum of first two rows\n",
    "matrix[0:2].sum()"
   ]
  },
  {
   "cell_type": "code",
   "execution_count": 16,
   "id": "8d43475f-4cba-430c-bd3f-9c5eebb95a9e",
   "metadata": {},
   "outputs": [
    {
     "name": "stdout",
     "output_type": "stream",
     "text": [
      " Sum of elements in First two rows: 142\n",
      "Sum of elements in third and fourth row: 143\n"
     ]
    }
   ],
   "source": [
    "#sum first two rows, and second and third row\n",
    "print(\" Sum of elements in First two rows:\", matrix[0:2].sum())\n",
    "print(\"Sum of elements in third and fourth row:\", matrix[1:].sum())"
   ]
  },
  {
   "cell_type": "code",
   "execution_count": 17,
   "id": "b62a91a2-40f9-496b-a099-11cadaaf3d44",
   "metadata": {},
   "outputs": [
    {
     "name": "stdout",
     "output_type": "stream",
     "text": [
      "Mean of elements in first column 4.75\n",
      "Mean of elements in third column 5.75\n"
     ]
    }
   ],
   "source": [
    "#Mean of elements in first colummn, and third column\n",
    "print(\"Mean of elements in first column\", matrix[:, 0:1].mean())\n",
    "print(\"Mean of elements in third column\", matrix[:, 3:4].mean())"
   ]
  },
  {
   "cell_type": "code",
   "execution_count": 18,
   "id": "4ff4a774-3620-4e60-91d1-d80a6f12e9d1",
   "metadata": {},
   "outputs": [
    {
     "data": {
      "text/plain": [
       "2.5860201081971503"
      ]
     },
     "execution_count": 18,
     "metadata": {},
     "output_type": "execute_result"
    }
   ],
   "source": [
    "#Standard deviaiton of elements in the first two rows , first two columns\n",
    "matrix[:2,:2].std()"
   ]
  },
  {
   "cell_type": "markdown",
   "id": "932c8f2c-70e1-41ea-a4b8-e43edb4b9c38",
   "metadata": {},
   "source": [
    "#### Axis in Matrices using Statistical Summaries "
   ]
  },
  {
   "cell_type": "code",
   "execution_count": 19,
   "id": "af4f1138-7871-46fd-92f6-5414dfe94ad8",
   "metadata": {},
   "outputs": [
    {
     "data": {
      "text/plain": [
       "array([ 19,  24,  16,  23, 106])"
      ]
     },
     "execution_count": 19,
     "metadata": {},
     "output_type": "execute_result"
    }
   ],
   "source": [
    "#sum of columns \n",
    "#axis 0 refers to columns \n",
    "matrix.sum(axis=0)"
   ]
  },
  {
   "cell_type": "code",
   "execution_count": 21,
   "id": "6c5fbb88-7167-4699-809f-a8b3b9e495d0",
   "metadata": {},
   "outputs": [
    {
     "data": {
      "text/plain": [
       "array([45, 97, 23, 23])"
      ]
     },
     "execution_count": 21,
     "metadata": {},
     "output_type": "execute_result"
    }
   ],
   "source": [
    "#sum of rows\n",
    "#axis 1 refers to rows\n",
    "sum_of_rows = matrix.sum(axis=1)\n",
    "sum_of_rows"
   ]
  },
  {
   "cell_type": "markdown",
   "id": "7286442b-16bc-43af-9600-ccb50b157988",
   "metadata": {},
   "source": [
    "[for more documentation](https://docs.scipy.org/doc/numpy-1.13.0/reference/arrays.ndarray.html#array-methods)"
   ]
  },
  {
   "cell_type": "markdown",
   "id": "5d00d9db-8d36-4a9d-a4a9-7863abb52e7b",
   "metadata": {},
   "source": [
    "## Broadcasting and Vectorized operations"
   ]
  },
  {
   "cell_type": "markdown",
   "id": "1f627f3a-59d0-4f39-b4e0-5df52462b1d2",
   "metadata": {},
   "source": [
    "The standard python does not permit mathematical computations on lists. This deficient is optimized in numpy which allows for basic operations of elements in a list. Through numpy it is possible to add, divide, multiply, substract, and perform basic operations on elements in a list. This concept is known as **broadcasting and vectorization**"
   ]
  },
  {
   "cell_type": "code",
   "execution_count": 25,
   "id": "6f9fd621-beea-40a5-a56c-33de5a877f3c",
   "metadata": {},
   "outputs": [
    {
     "name": "stdout",
     "output_type": "stream",
     "text": [
      "Sum: [ 65 117  43  43]\n",
      "Product: [225 485 115 115]\n",
      "Quotient: [22.5 48.5 11.5 11.5]\n",
      "Power: [ 91125 912673  12167  12167]\n"
     ]
    }
   ],
   "source": [
    "#Broadcasting and vectorization using sum_of_rows matrix above\n",
    "#Using the matrix sum_of_rows:\n",
    "\n",
    "#add 20 to each element\n",
    "sum_of_elements = sum_of_rows + 20\n",
    "\n",
    "#multiply each element by 5\n",
    "product_of_elements = sum_of_rows * 5\n",
    "\n",
    "# divide each element by 2\n",
    "quotient_of_elements = sum_of_rows/2\n",
    "\n",
    "#raise each element to the power of 3\n",
    "power_of_elements = sum_of_rows**3\n",
    "\n",
    "print(\"Sum:\", sum_of_elements)\n",
    "print(\"Product:\", product_of_elements)\n",
    "print(\"Quotient:\", quotient_of_elements)\n",
    "print(\"Power:\", power_of_elements)"
   ]
  },
  {
   "cell_type": "code",
   "execution_count": 28,
   "id": "1b77377b-ece3-44e4-b9b3-3520b558364a",
   "metadata": {},
   "outputs": [
    {
     "name": "stdout",
     "output_type": "stream",
     "text": [
      "[290 602 158 158]\n",
      "[2.46913580e-04 5.31406101e-05 9.45179584e-04 9.45179584e-04]\n",
      "[ 91060 912556  12124  12124]\n"
     ]
    }
   ],
   "source": [
    "## Basic operation between two arrays \n",
    "print(product_of_elements + sum_of_elements)\n",
    "print(quotient_of_elements/power_of_elements)\n",
    "print(power_of_elements-sum_of_elements)"
   ]
  },
  {
   "cell_type": "markdown",
   "id": "d3b64e41-61ce-42e6-9c13-c062c30bda4d",
   "metadata": {},
   "source": [
    "**NOTE: You can also perform broadcasting and vectorizing using indices and slicing**"
   ]
  },
  {
   "cell_type": "code",
   "execution_count": null,
   "id": "b3b59dc7-4aee-4a2f-a478-006f486c8301",
   "metadata": {},
   "outputs": [],
   "source": []
  },
  {
   "cell_type": "code",
   "execution_count": null,
   "id": "6939b33a-af9f-4f3c-96de-f436a5b3670c",
   "metadata": {},
   "outputs": [],
   "source": []
  }
 ],
 "metadata": {
  "kernelspec": {
   "display_name": "Python 3 (ipykernel)",
   "language": "python",
   "name": "python3"
  },
  "language_info": {
   "codemirror_mode": {
    "name": "ipython",
    "version": 3
   },
   "file_extension": ".py",
   "mimetype": "text/x-python",
   "name": "python",
   "nbconvert_exporter": "python",
   "pygments_lexer": "ipython3",
   "version": "3.8.5"
  }
 },
 "nbformat": 4,
 "nbformat_minor": 5
}
